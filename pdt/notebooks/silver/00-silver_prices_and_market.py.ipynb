{
 "cells": [
  {
   "cell_type": "code",
   "execution_count": 0,
   "metadata": {
    "application/vnd.databricks.v1+cell": {
     "cellMetadata": {},
     "inputWidgets": {},
     "nuid": "9bbed716-2ffd-4116-af83-5025afbee945",
     "showTitle": false,
     "tableResultSettingsMap": {},
     "title": ""
    }
   },
   "outputs": [],
   "source": [
    "# Databricks notebook source\n",
    "dbutils.widgets.text(\"catalog\", \"ptd_dev\")\n",
    "dbutils.widgets.text(\"schema_bronze\", \"bronze\")\n",
    "dbutils.widgets.text(\"schema_silver\", \"silver\")\n",
    "\n",
    "catalog       = dbutils.widgets.get(\"catalog\")\n",
    "schema_bronze = dbutils.widgets.get(\"schema_bronze\")\n",
    "schema_silver = dbutils.widgets.get(\"schema_silver\")\n",
    "\n",
    "spark.sql(f\"USE CATALOG {catalog}\")\n",
    "spark.sql(f\"USE SCHEMA {schema_silver}\")\n",
    "\n",
    "from pyspark.sql import functions as F, Window as W\n",
    "\n",
    "# 1) prices_daily\n",
    "pr = spark.table(f\"{catalog}.{schema_bronze}.prices_raw\").select(\n",
    "    \"ticker\",\"date\",\"open\",\"high\",\"low\",\"close\",\"adj_close\",\"volume\",\"source\"\n",
    ")\n",
    "\n",
    "w = W.partitionBy(\"ticker\").orderBy(\"date\")\n",
    "prices_daily = (pr\n",
    "    .withColumn(\"ret_1d\", F.col(\"adj_close\")/F.lag(\"adj_close\",1).over(w) - 1)\n",
    "    .withColumn(\"ret_5d\", F.col(\"adj_close\")/F.lag(\"adj_close\",5).over(w) - 1)\n",
    "    .withColumn(\"ma_5\",  F.avg(\"adj_close\").over(w.rowsBetween(-4,0)))\n",
    "    .withColumn(\"ma_20\", F.avg(\"adj_close\").over(w.rowsBetween(-19,0)))\n",
    "    .withColumn(\"vol_20\", F.stddev_samp(\"ret_1d\").over(w.rowsBetween(-19,0)))\n",
    "    .withColumn(\"ingestion_ts\", F.current_timestamp())\n",
    ")\n",
    "\n",
    "spark.sql(f\"CREATE SCHEMA IF NOT EXISTS {catalog}.{schema_silver}\")\n",
    "prices_daily.write.mode(\"overwrite\").option(\"overwriteSchema\",\"true\").saveAsTable(f\"{catalog}.{schema_silver}.prices_daily\")\n",
    "\n",
    "# 2) market_features (SPY y ^VIX)\n",
    "mf = (prices_daily\n",
    "      .filter(F.col(\"ticker\").isin(\"SPY\", \"^VIX\"))\n",
    "      .select(\"ticker\",\"date\",\"adj_close\",\"ret_1d\",\"ret_5d\",\"ma_5\",\"ma_20\",\"vol_20\"))\n",
    "\n",
    "mf_pivot = (mf\n",
    "    .groupBy(\"date\")\n",
    "    .pivot(\"ticker\", [\"SPY\",\"^VIX\"])\n",
    "    .agg(F.first(\"adj_close\").alias(\"adj_close\"),\n",
    "         F.first(\"ret_1d\").alias(\"ret_1d\"),\n",
    "         F.first(\"ret_5d\").alias(\"ret_5d\"),\n",
    "         F.first(\"ma_5\").alias(\"ma_5\"),\n",
    "         F.first(\"ma_20\").alias(\"ma_20\"),\n",
    "         F.first(\"vol_20\").alias(\"vol_20\"))\n",
    ")\n",
    "\n",
    "# aplanar nombres de columnas\n",
    "cols = []\n",
    "for c in mf_pivot.columns:\n",
    "    if c in (\"date\",):\n",
    "        cols.append(F.col(c))\n",
    "    else:\n",
    "        # Columnas vienen como p.ej. 'SPY_adj_close'\n",
    "        parts = c.split(\"_\")\n",
    "        cols.append(F.col(c).alias(c))\n",
    "market_features = mf_pivot.select(*cols).withColumn(\"ingestion_ts\", F.current_timestamp())\n",
    "\n",
    "market_features.write.mode(\"overwrite\").option(\"overwriteSchema\",\"true\").saveAsTable(f\"{catalog}.{schema_silver}.market_features\")"
   ]
  }
 ],
 "metadata": {
  "application/vnd.databricks.v1+notebook": {
   "computePreferences": null,
   "dashboards": [],
   "environmentMetadata": {
    "base_environment": "",
    "environment_version": "2"
   },
   "inputWidgetPreferences": null,
   "language": "python",
   "notebookMetadata": {
    "pythonIndentUnit": 4
   },
   "notebookName": "00-silver_prices_and_market.py",
   "widgets": {}
  },
  "language_info": {
   "name": "python"
  }
 },
 "nbformat": 4,
 "nbformat_minor": 0
}
