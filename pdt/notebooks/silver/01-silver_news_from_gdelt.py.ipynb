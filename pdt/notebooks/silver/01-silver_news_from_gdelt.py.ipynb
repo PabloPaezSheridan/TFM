{
 "cells": [
  {
   "cell_type": "code",
   "execution_count": 0,
   "metadata": {
    "application/vnd.databricks.v1+cell": {
     "cellMetadata": {},
     "inputWidgets": {},
     "nuid": "b0d9e96c-9c54-4aa5-bd30-87d3be73473e",
     "showTitle": true,
     "tableResultSettingsMap": {},
     "title": "settings"
    }
   },
   "outputs": [],
   "source": [
    "dbutils.widgets.text(\"catalog\", \"ptd_dev\")\n",
    "\n",
    "catalog       = dbutils.widgets.get(\"catalog\")\n",
    "schema_bronze = \"bronze\"\n",
    "schema_silver = \"silver\"\n",
    "\n",
    "spark.sql(f\"USE CATALOG {catalog}\")"
   ]
  },
  {
   "cell_type": "code",
   "execution_count": 0,
   "metadata": {
    "application/vnd.databricks.v1+cell": {
     "cellMetadata": {},
     "inputWidgets": {},
     "nuid": "61f63b4c-da30-4f78-a0fc-08fa6f046e73",
     "showTitle": true,
     "tableResultSettingsMap": {},
     "title": "get tables"
    }
   },
   "outputs": [],
   "source": [
    "from pyspark.sql import functions as F\n",
    "\n",
    "tonechart = spark.table(\"bronze.gdelt_tonechart\")\n",
    "sp100_universe = spark.table(\"bronze.universe_sp100_snapshot\")\\\n",
    "    .select(F.upper(F.col(\"company_name\")), F.upper(F.col(\"ticker\")))\n",
    "ticker_news_tone = spark.table(\"silver.ticker_news_tone\")"
   ]
  },
  {
   "cell_type": "code",
   "execution_count": 0,
   "metadata": {
    "application/vnd.databricks.v1+cell": {
     "cellMetadata": {},
     "inputWidgets": {},
     "nuid": "c3919fee-5785-46ca-ae00-9da1543d51bc",
     "showTitle": true,
     "tableResultSettingsMap": {},
     "title": "select records to be processed"
    }
   },
   "outputs": [],
   "source": [
    "tone_with_ticker = tonechart.join(\n",
    "                        sp100_universe, F.upper(tonechart[\"company_name\"]) == sp100_universe[\"company_name\"], \"inner\")\n",
    "\n",
    "to_process = tone_with_ticker.join(\n",
    "    ticker_news_tone.select(\"ticker\", \"date\"),\n",
    "    on=[\"ticker\", \"date\"],\n",
    "    how=\"left_anti\"\n",
    ")"
   ]
  },
  {
   "cell_type": "code",
   "execution_count": 0,
   "metadata": {
    "application/vnd.databricks.v1+cell": {
     "cellMetadata": {},
     "inputWidgets": {},
     "nuid": "99bfc04f-eb1d-49cc-9abe-f904ad9b63c1",
     "showTitle": true,
     "tableResultSettingsMap": {},
     "title": "process gdelt tone"
    }
   },
   "outputs": [],
   "source": [
    "agg = (to_process\n",
    "    .groupBy(\"ticker\", \"date\")\n",
    "    .agg(\n",
    "        (F.sum(F.col(\"bin\")* F.col(\"count\")) / F.sum(F.col(\"count\"))).alias(\"weighted_gdelt_tone_avg\"),\n",
    "        F.sum(\"count\").alias(\"news_count\")\n",
    "    )\n",
    "    .withCoulumn(\"ingestion_ts\", F.current_timestamp())\n",
    "       )\n",
    "\n",
    "agg.write.mode(\"overwrite\").option(\"overwriteSchema\", \"true\").saveAsTable(\"silver.ticker_news_tone\")\n"
   ]
  }
 ],
 "metadata": {
  "application/vnd.databricks.v1+notebook": {
   "computePreferences": null,
   "dashboards": [],
   "environmentMetadata": {
    "base_environment": "",
    "environment_version": "2"
   },
   "inputWidgetPreferences": null,
   "language": "python",
   "notebookMetadata": {
    "pythonIndentUnit": 4
   },
   "notebookName": "01-silver_news_from_gdelt.py",
   "widgets": {}
  },
  "language_info": {
   "name": "python"
  }
 },
 "nbformat": 4,
 "nbformat_minor": 0
}
