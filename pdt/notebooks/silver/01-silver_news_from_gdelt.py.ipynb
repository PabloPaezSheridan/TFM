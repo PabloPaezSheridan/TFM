{
 "cells": [
  {
   "cell_type": "code",
   "execution_count": 0,
   "metadata": {
    "application/vnd.databricks.v1+cell": {
     "cellMetadata": {},
     "inputWidgets": {},
     "nuid": "99bfc04f-eb1d-49cc-9abe-f904ad9b63c1",
     "showTitle": false,
     "tableResultSettingsMap": {},
     "title": ""
    }
   },
   "outputs": [],
   "source": [
    "# Databricks notebook source\n",
    "dbutils.widgets.text(\"catalog\", \"ptd_dev\")\n",
    "\n",
    "catalog       = dbutils.widgets.get(\"catalog\")\n",
    "schema_bronze = \"bronze\"\n",
    "schema_silver = \"silver\"\n",
    "\n",
    "spark.sql(f\"USE CATALOG {catalog}\")\n",
    "spark.sql(f\"USE SCHEMA {schema_silver}\")\n",
    "\n",
    "from pyspark.sql import functions as F\n",
    "\n",
    "# Tablas de entrada\n",
    "gkg = spark.table(f\"{catalog}.{schema_bronze}.gdelt_gkg_raw\")\n",
    "aliases = spark.table(f\"{catalog}.bronze.ticker_aliases\") \\\n",
    "               .select(F.upper(F.col(\"alias\")).alias(\"alias\"), F.upper(F.col(\"ticker\")).alias(\"canonical_ticker\"))\n",
    "\n",
    "# Campos esperados y normalizaciones\n",
    "g = (gkg\n",
    "     .withColumn(\"date\", F.to_date(F.to_timestamp(F.col(\"DATE\").cast(\"string\"), \"yyyyMMddHHmmss\")))\n",
    "     .withColumn(\"source\", F.col(\"SourceCommonName\"))\n",
    "     .withColumn(\"tone_val\", F.split(F.col(\"V2Tone\"), \",\").getItem(0).cast(\"double\"))\n",
    "     .withColumn(\"V2Organizations\", F.upper(F.col(\"V2Organizations\")))\n",
    "     .withColumn(\"V2Persons\", F.upper(F.col(\"V2Persons\")))\n",
    "     .withColumn(\"V2AllNames\", F.upper(F.col(\"V2AllNames\")))\n",
    "    )\n",
    "\n",
    "# Extraer entidades (alias) desde Persons, Organizations y AllNames (delimitador ';')\n",
    "def split_nonempty(col):\n",
    "    return F.filter(F.transform(F.split(F.coalesce(col, F.lit(\"\")), r\";\"), lambda x: F.trim(x)), lambda x: x != \"\")\n",
    "\n",
    "ents = (g\n",
    "    .select(\"date\",\"source\",\"tone_val\",\n",
    "            split_nonempty(F.col(\"V2Organizations\")).alias(\"orgs\"),\n",
    "            split_nonempty(F.col(\"V2Persons\")).alias(\"persons\"),\n",
    "            split_nonempty(F.col(\"V2AllNames\")).alias(\"allnames\"))\n",
    "    .withColumn(\"entity\", F.explode(F.array_union(F.array_union(F.col(\"orgs\"), F.col(\"persons\")), F.col(\"allnames\"))))\n",
    "    .select(\"date\",\"source\",\"tone_val\", F.upper(F.col(\"entity\")).alias(\"alias\"))\n",
    "    .filter(F.col(\"alias\").isNotNull() & (F.col(\"alias\") != \"\"))\n",
    ")\n",
    "\n",
    "# Match por alias\n",
    "news_entities = (ents.join(aliases, on=\"alias\", how=\"inner\")\n",
    "                      .select(\"date\",\"alias\",\"canonical_ticker\",\"tone_val\",\"source\")\n",
    "                      .withColumn(\"ingestion_ts\", F.current_timestamp()))\n",
    "\n",
    "news_entities.write.mode(\"overwrite\").option(\"overwriteSchema\",\"true\").saveAsTable(f\"{catalog}.{schema_silver}.news_entities\")\n",
    "\n",
    "# Aggregation por ticker-date\n",
    "news_daily_agg = (news_entities.groupBy(\"canonical_ticker\",\"date\")\n",
    "                  .agg(F.count(\"*\").alias(\"news_count\"),\n",
    "                       F.avg(\"tone_val\").alias(\"tone_avg\"),\n",
    "                       F.stddev_samp(\"tone_val\").alias(\"tone_std\"))\n",
    "                  .withColumnRenamed(\"canonical_ticker\",\"ticker\")\n",
    "                  .withColumn(\"ingestion_ts\", F.current_timestamp()))\n",
    "\n",
    "news_daily_agg.write.mode(\"overwrite\").option(\"overwriteSchema\",\"true\").saveAsTable(f\"{catalog}.{schema_silver}.news_daily_agg\")"
   ]
  }
 ],
 "metadata": {
  "application/vnd.databricks.v1+notebook": {
   "computePreferences": null,
   "dashboards": [],
   "environmentMetadata": {
    "base_environment": "",
    "environment_version": "2"
   },
   "inputWidgetPreferences": null,
   "language": "python",
   "notebookMetadata": {
    "pythonIndentUnit": 4
   },
   "notebookName": "01-silver_news_from_gdelt.py",
   "widgets": {}
  },
  "language_info": {
   "name": "python"
  }
 },
 "nbformat": 4,
 "nbformat_minor": 0
}
