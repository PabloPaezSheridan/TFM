{
 "cells": [
  {
   "cell_type": "code",
   "execution_count": 0,
   "metadata": {
    "application/vnd.databricks.v1+cell": {
     "cellMetadata": {
      "byteLimit": 2048000,
      "rowLimit": 10000
     },
     "inputWidgets": {},
     "nuid": "b0d9e96c-9c54-4aa5-bd30-87d3be73473e",
     "showTitle": true,
     "tableResultSettingsMap": {},
     "title": "settings"
    }
   },
   "outputs": [],
   "source": [
    "dbutils.widgets.text(\"catalog\", \"ptd_dev\")\n",
    "\n",
    "catalog       = dbutils.widgets.get(\"catalog\")\n",
    "schema_bronze = \"bronze\"\n",
    "schema_silver = \"silver\"\n",
    "\n",
    "spark.sql(f\"USE CATALOG {catalog}\")\n",
    "spark.sql(\"\"\"\n",
    "CREATE TABLE IF NOT EXISTS silver.ticker_news_tone (\n",
    "    ticker STRING,\n",
    "    date DATE,\n",
    "    weighted_gdelt_tone_avg DOUBLE,\n",
    "    news_count LONG,\n",
    "    ingestion_ts TIMESTAMP\n",
    ")\n",
    "USING DELTA\n",
    "\"\"\")"
   ]
  },
  {
   "cell_type": "code",
   "execution_count": 0,
   "metadata": {
    "application/vnd.databricks.v1+cell": {
     "cellMetadata": {
      "byteLimit": 2048000,
      "rowLimit": 10000
     },
     "inputWidgets": {},
     "nuid": "61f63b4c-da30-4f78-a0fc-08fa6f046e73",
     "showTitle": true,
     "tableResultSettingsMap": {},
     "title": "get tables"
    }
   },
   "outputs": [],
   "source": [
    "from pyspark.sql import functions as F\n",
    "\n",
    "tonechart = spark.table(\"bronze.gdelt_tonechart\")\n",
    "sp100_universe = spark.table(\"bronze.universe_sp100_snapshot\")\\\n",
    "    .select(F.upper(F.col(\"company_name\")).alias(\"company_name\"), F.upper(F.col(\"ticker\")).alias(\"ticker\"))\n",
    "ticker_news_tone = spark.table(\"silver.ticker_news_tone\")"
   ]
  },
  {
   "cell_type": "code",
   "execution_count": 0,
   "metadata": {
    "application/vnd.databricks.v1+cell": {
     "cellMetadata": {
      "byteLimit": 2048000,
      "rowLimit": 10000
     },
     "inputWidgets": {},
     "nuid": "c3919fee-5785-46ca-ae00-9da1543d51bc",
     "showTitle": true,
     "tableResultSettingsMap": {},
     "title": "select records to be processed"
    }
   },
   "outputs": [],
   "source": [
    "tone_with_ticker = tonechart.join(\n",
    "                        sp100_universe, F.upper(tonechart[\"company_name\"]) == sp100_universe[\"company_name\"], \"inner\")\n",
    "\n",
    "to_process = tone_with_ticker.join(\n",
    "    ticker_news_tone.select(\"ticker\", \"date\"),\n",
    "    on=[\"ticker\", \"date\"],\n",
    "    how=\"left_anti\"\n",
    ")"
   ]
  },
  {
   "cell_type": "code",
   "execution_count": 0,
   "metadata": {
    "application/vnd.databricks.v1+cell": {
     "cellMetadata": {
      "byteLimit": 2048000,
      "rowLimit": 10000
     },
     "inputWidgets": {},
     "nuid": "99bfc04f-eb1d-49cc-9abe-f904ad9b63c1",
     "showTitle": true,
     "tableResultSettingsMap": {},
     "title": "process gdelt tone"
    }
   },
   "outputs": [],
   "source": [
    "agg = (to_process\n",
    "    .groupBy(\"ticker\", \"date\")\n",
    "    .agg(\n",
    "        (F.sum(F.col(\"bin\")* F.col(\"count\")) / F.sum(F.col(\"count\"))).alias(\"weighted_gdelt_tone_avg\"),\n",
    "        F.sum(\"count\").alias(\"news_count\")\n",
    "    )\n",
    "    .withColumn(\"ingestion_ts\", F.current_timestamp())\n",
    "    .withColumn(\"date\", F.to_date(\"date\"))\n",
    "       )\n",
    "\n",
    "agg.write.mode(\"overwrite\").option(\"overwriteSchema\", \"true\").saveAsTable(\"silver.ticker_news_tone\")\n"
   ]
  }
 ],
 "metadata": {
  "application/vnd.databricks.v1+notebook": {
   "computePreferences": {
    "hardware": {
     "accelerator": null,
     "gpuPoolId": null,
     "memory": null
    }
   },
   "dashboards": [],
   "environmentMetadata": {
    "base_environment": "",
    "environment_version": "2"
   },
   "inputWidgetPreferences": null,
   "language": "python",
   "notebookMetadata": {
    "pythonIndentUnit": 4
   },
   "notebookName": "01-silver_news_from_gdelt.py",
   "widgets": {
    "catalog": {
     "currentValue": "ptd_dev",
     "nuid": "0fdda767-598a-4b3f-88d2-753bb33e4bfe",
     "typedWidgetInfo": {
      "autoCreated": false,
      "defaultValue": "ptd_dev",
      "label": null,
      "name": "catalog",
      "options": {
       "validationRegex": null,
       "widgetDisplayType": "Text"
      },
      "parameterDataType": "String"
     },
     "widgetInfo": {
      "defaultValue": "ptd_dev",
      "label": null,
      "name": "catalog",
      "options": {
       "autoCreated": null,
       "validationRegex": null,
       "widgetType": "text"
      },
      "widgetType": "text"
     }
    }
   }
  },
  "language_info": {
   "name": "python"
  }
 },
 "nbformat": 4,
 "nbformat_minor": 0
}
