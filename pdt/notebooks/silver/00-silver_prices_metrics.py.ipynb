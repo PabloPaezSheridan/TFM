{
 "cells": [
  {
   "cell_type": "code",
   "execution_count": 0,
   "metadata": {
    "application/vnd.databricks.v1+cell": {
     "cellMetadata": {},
     "inputWidgets": {},
     "nuid": "9bbed716-2ffd-4116-af83-5025afbee945",
     "showTitle": true,
     "tableResultSettingsMap": {},
     "title": "settings"
    }
   },
   "outputs": [],
   "source": [
    "# Databricks notebook source\n",
    "dbutils.widgets.text(\"catalog\", \"ptd_dev\")\n",
    "\n",
    "catalog       = dbutils.widgets.get(\"catalog\")\n",
    "schema_bronze = \"bronze\"\n",
    "schema_silver = \"silver\"\n",
    "\n",
    "spark.sql(f\"USE CATALOG {catalog}\")\n",
    "spark.sql(f\"USE SCHEMA {schema_silver}\")\n",
    "\n"
   ]
  },
  {
   "cell_type": "code",
   "execution_count": 0,
   "metadata": {
    "application/vnd.databricks.v1+cell": {
     "cellMetadata": {},
     "inputWidgets": {},
     "nuid": "f7f8acf7-6c1a-425f-810d-5f9475a091f7",
     "showTitle": true,
     "tableResultSettingsMap": {},
     "title": "prices_daily"
    }
   },
   "outputs": [],
   "source": [
    "from pyspark.sql import functions as F, Window as W\n",
    "pr = spark.table(f\"{catalog}.{schema_bronze}.prices_raw\").select(\n",
    "    \"ticker\",\"date\",\"open\",\"high\",\"low\",\"close\",\"adj_close\",\"volume\",\"source\"\n",
    ")\n",
    "\n",
    "w = W.partitionBy(\"ticker\").orderBy(\"date\")\n",
    "prices_daily = (pr\n",
    "    .withColumn(\"ret_1d\", F.col(\"adj_close\")/F.lag(\"adj_close\",1).over(w) - 1)\n",
    "    .withColumn(\"ret_5d\", F.col(\"adj_close\")/F.lag(\"adj_close\",5).over(w) - 1)\n",
    "    .withColumn(\"ma_5\",  F.avg(\"adj_close\").over(w.rowsBetween(-4,0)))\n",
    "    .withColumn(\"ma_20\", F.avg(\"adj_close\").over(w.rowsBetween(-19,0)))\n",
    "    .withColumn(\"vol_20\", F.stddev_samp(\"ret_1d\").over(w.rowsBetween(-19,0)))\n",
    "    .withColumn(\"ingestion_ts\", F.current_timestamp())\n",
    ")\n",
    "\n",
    "spark.sql(f\"CREATE SCHEMA IF NOT EXISTS {catalog}.{schema_silver}\")\n",
    "prices_daily.write.mode(\"overwrite\").option(\"overwriteSchema\",\"true\").saveAsTable(f\"{catalog}.{schema_silver}.prices_daily\")"
   ]
  }
 ],
 "metadata": {
  "application/vnd.databricks.v1+notebook": {
   "computePreferences": null,
   "dashboards": [],
   "environmentMetadata": {
    "base_environment": "",
    "environment_version": "2"
   },
   "inputWidgetPreferences": null,
   "language": "python",
   "notebookMetadata": {
    "pythonIndentUnit": 4
   },
   "notebookName": "00-silver_prices_metrics.py",
   "widgets": {}
  },
  "language_info": {
   "name": "python"
  }
 },
 "nbformat": 4,
 "nbformat_minor": 0
}
