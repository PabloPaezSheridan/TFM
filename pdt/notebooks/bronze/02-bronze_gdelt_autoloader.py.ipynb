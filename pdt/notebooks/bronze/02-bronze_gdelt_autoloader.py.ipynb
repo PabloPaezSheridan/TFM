{
 "cells": [
  {
   "cell_type": "code",
   "execution_count": 0,
   "metadata": {
    "application/vnd.databricks.v1+cell": {
     "cellMetadata": {},
     "inputWidgets": {},
     "nuid": "07bf0029-bf70-4834-9c8a-76222ae03f07",
     "showTitle": false,
     "tableResultSettingsMap": {},
     "title": ""
    }
   },
   "outputs": [],
   "source": [
    "# Databricks notebook source\n",
    "# Auto Loader para GDELT GKG v2.1 desde un drop folder (tú subes CSV/CSV.GZ)\n",
    "# Widgets\n",
    "dbutils.widgets.text(\"catalog\", \"ptd_dev\")\n",
    "dbutils.widgets.text(\"schema_bronze\", \"bronze\")\n",
    "dbutils.widgets.text(\"source_path\", \"/Volumes/ptd_dev/bronze/raw/gdelt_gkg/\")  # carpeta con archivos .csv o .csv.gz\n",
    "dbutils.widgets.text(\"checkpoint_path\", \"/Volumes/ptd_dev/bronze/checkpoints/gdelt_gkg_raw\")\n",
    "\n",
    "catalog       = dbutils.widgets.get(\"catalog\")\n",
    "schema_bronze = dbutils.widgets.get(\"schema_bronze\")\n",
    "source_path   = dbutils.widgets.get(\"source_path\")\n",
    "ckpt_path     = dbutils.widgets.get(\"checkpoint_path\")\n",
    "\n",
    "spark.sql(f\"USE CATALOG {catalog}\")\n",
    "spark.sql(f\"USE SCHEMA {schema_bronze}\")\n",
    "\n",
    "from pyspark.sql import functions as F\n",
    "\n",
    "# Esquema mínimo (usaremos inferSchema para tolerar variaciones)\n",
    "df = (spark.readStream\n",
    "      .format(\"cloudFiles\")\n",
    "      .option(\"cloudFiles.format\", \"csv\")\n",
    "      .option(\"cloudFiles.schemaLocation\", \"/mnt/bronze/gdelt_gkg/_schemas\")  # Ruta para guardar el esquema\n",
    "      .option(\"cloudFiles.inferColumnTypes\", \"true\")\n",
    "      .option(\"header\", \"true\")\n",
    "      .option(\"cleanSource\", \"archive\")\n",
    "      .option(\"cloudFiles.includeExistingFiles\", \"true\")\n",
    "      .load(source_path))\n",
    "\n",
    "# Normalizamos nombres de columnas relevantes si existen\n",
    "# Campos típicos: \"DATE\",\"DocumentIdentifier\",\"SourceCommonName\",\"V2Persons\",\"V2Organizations\",\"V2Tone\",\"V2Themes\",\"V2Locations\",\"V2AllNames\"\n",
    "for c in df.columns:\n",
    "    df = df.withColumnRenamed(c, c.strip())\n",
    "\n",
    "df = (df\n",
    "      .withColumn(\"ingestion_ts\", F.current_timestamp())\n",
    "      .withColumn(\"date_gkg\", F.to_date(F.to_timestamp(F.col(\"DATE\").cast(\"string\"), \"yyyyMMddHHmmss\")))\n",
    "     )\n",
    "\n",
    "spark.sql(f\"\"\"\n",
    "CREATE TABLE IF NOT EXISTS {catalog}.bronze.gdelt_gkg_raw\n",
    "USING DELTA\n",
    "PARTITIONED BY (date_gkg)\n",
    "AS SELECT * FROM (SELECT NULL as DATE) WHERE 1=0\n",
    "\"\"\")\n",
    "\n",
    "(query := (df.writeStream\n",
    "    .format(\"delta\")\n",
    "    .option(\"checkpointLocation\", ckpt_path)\n",
    "    .outputMode(\"append\")\n",
    "    .toTable(f\"{catalog}.bronze.gdelt_gkg_raw\")\n",
    ")).awaitTermination(False)"
   ]
  }
 ],
 "metadata": {
  "application/vnd.databricks.v1+notebook": {
   "computePreferences": null,
   "dashboards": [],
   "environmentMetadata": {
    "base_environment": "",
    "environment_version": "2"
   },
   "inputWidgetPreferences": null,
   "language": "python",
   "notebookMetadata": {
    "pythonIndentUnit": 4
   },
   "notebookName": "02-bronze_gdelt_autoloader.py",
   "widgets": {}
  },
  "language_info": {
   "name": "python"
  }
 },
 "nbformat": 4,
 "nbformat_minor": 0
}
