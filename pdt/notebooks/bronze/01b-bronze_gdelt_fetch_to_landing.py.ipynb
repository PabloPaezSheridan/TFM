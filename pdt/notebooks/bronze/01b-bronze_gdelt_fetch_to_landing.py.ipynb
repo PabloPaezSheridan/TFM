{
 "cells": [
  {
   "cell_type": "code",
   "execution_count": 0,
   "metadata": {
    "application/vnd.databricks.v1+cell": {
     "cellMetadata": {
      "byteLimit": 2048000,
      "rowLimit": 10000
     },
     "inputWidgets": {},
     "nuid": "f3b410fb-aa94-42b4-8ba1-c347537a87a1",
     "showTitle": true,
     "tableResultSettingsMap": {},
     "title": "initial settings"
    }
   },
   "outputs": [],
   "source": [
    "import requests\n",
    "import re\n",
    "import json\n",
    "from datetime import datetime\n",
    "\n",
    "CATALOG = \"ptd_dev\"\n",
    "BASE = \"https://api.gdeltproject.org/api/v2/doc/doc\"\n",
    "\n",
    "spark.sql(f\"\"\"\n",
    "CREATE TABLE IF NOT EXISTS {CATALOG}.bronze.gdelt_tonechart (\n",
    "    company_name STRING,\n",
    "    date STRING,\n",
    "    bin LONG,\n",
    "    count LONG\n",
    ")\n",
    "USING DELTA\n",
    "\"\"\")"
   ]
  },
  {
   "cell_type": "code",
   "execution_count": 0,
   "metadata": {
    "application/vnd.databricks.v1+cell": {
     "cellMetadata": {
      "byteLimit": 2048000,
      "rowLimit": 10000
     },
     "inputWidgets": {},
     "nuid": "38c8c103-8ea7-4794-a601-625678daaa80",
     "showTitle": true,
     "tableResultSettingsMap": {},
     "title": "get gdelt data"
    }
   },
   "outputs": [],
   "source": [
    "def gdelt_gkg_url(company_alias: list[str], ts: str) -> str:\n",
    "    # Construye la parte de la query con los alias\n",
    "    if len(company_alias) > 1: \n",
    "        query = \" OR \".join([f'\"{alias}\"' for alias in company_alias])\n",
    "        query = f\"({query})\"\n",
    "    else:\n",
    "        query = f'\"{company_alias[0]}\"'\n",
    "    return f\"{BASE}?query={query}&ts={ts}&mode=tonechart&format=json\"\n",
    "\n",
    "rows, downloaded, skipped, errors = [], 0, 0, []\n",
    "\n",
    "companies = spark.table(f\"{CATALOG}.bronze.universe_sp100_snapshot\").filter(\"active_flag = 1\").collect()\n",
    "\n",
    "for c in companies:\n",
    "    try:\n",
    "       if (\n",
    "            spark.catalog.tableExists(f\"{CATALOG}.bronze.gdelt_tonechart\") and\n",
    "            spark.table(f\"{CATALOG}.bronze.gdelt_tonechart\").filter(\n",
    "                not (\n",
    "                    \"company_name\" == c.company_name\n",
    "                    and \"date\" == datetime.now().strftime(\"%Y-%m-%d\")\n",
    "                )\n",
    "            )\n",
    "        ):\n",
    "            aliases = []\n",
    "            if \" - \" in c.company_alias:\n",
    "                aliases = c.company_alias.split(\" - \")\n",
    "            else:\n",
    "                aliases.append(c.company_alias)\n",
    "            url = gdelt_gkg_url(aliases, \"24hs\")\n",
    "\n",
    "            response = requests.get(url)\n",
    "            response.raise_for_status()\n",
    "            date = datetime.now().strftime(\"%Y-%m-%d\")\n",
    "\n",
    "            # Preprocesar el texto para eliminar el campo toparts y restos de title/url/texto suelto\n",
    "            cleaned_text = re.sub(r',?\\s*\"toparts\"\\s*:\\s*\\[.*?\\]', '', response.text, flags=re.DOTALL)\n",
    "            cleaned_text = re.sub(r',?\\s*\\{\\s*\"url\"\\s*:\\s*\"[^\"]*\"\\s*,\\s*\"title\"\\s*:\\s*\"[^\"]*\"\\s*\\}', '', cleaned_text)\n",
    "            cleaned_text = re.sub(r',\\s*,', ',', cleaned_text)\n",
    "            cleaned_text = re.sub(r',\\s*([\\]\\}])', r'\\1', cleaned_text)\n",
    "            cleaned_text = re.sub(r'(\"count\"\\s*:\\s*\\d+)[^},]*', r'\\1', cleaned_text)\n",
    "            cleaned_text = re.sub(r'(\"count\"\\s*:\\s*\\d+)\\s*bin', r'\\1},{\"bin', cleaned_text)\n",
    "            cleaned_text = re.sub(r',?\\s*\"title\"\\s*:\\s*\"[^\"]*\"', '', cleaned_text)\n",
    "            cleaned_text = re.sub(r',?\\s*\"url\"\\s*:\\s*\"[^\"]*\"', '', cleaned_text)\n",
    "            data = json.loads(cleaned_text)\n",
    "\n",
    "            rows = []\n",
    "            for bin_info in data.get('tonechart', []):\n",
    "                bin_value = bin_info.get('bin')\n",
    "                count_value = bin_info.get('count')\n",
    "                rows.append({\n",
    "                    \"company_name\": c.company_name,\n",
    "                    \"date\": date,\n",
    "                    \"bin\": bin_value,\n",
    "                    \"count\": count_value\n",
    "                })\n",
    "\n",
    "\n",
    "            downloaded+=1\n",
    "            \n",
    "    except Exception as e:\n",
    "        errors.append((c.company_name, str(e)))\n",
    "        skipped += 1\n"
   ]
  },
  {
   "cell_type": "code",
   "execution_count": 0,
   "metadata": {
    "application/vnd.databricks.v1+cell": {
     "cellMetadata": {
      "byteLimit": 2048000,
      "rowLimit": 10000
     },
     "inputWidgets": {},
     "nuid": "b2924b43-08d0-4543-825c-cc9eb44b5fa2",
     "showTitle": false,
     "tableResultSettingsMap": {},
     "title": ""
    }
   },
   "outputs": [],
   "source": [
    "errors"
   ]
  },
  {
   "cell_type": "code",
   "execution_count": 0,
   "metadata": {
    "application/vnd.databricks.v1+cell": {
     "cellMetadata": {
      "byteLimit": 2048000,
      "rowLimit": 10000
     },
     "inputWidgets": {},
     "nuid": "28dcc938-de70-4446-898d-31dba4e9512f",
     "showTitle": false,
     "tableResultSettingsMap": {},
     "title": ""
    }
   },
   "outputs": [],
   "source": [
    "cleaned_text"
   ]
  },
  {
   "cell_type": "code",
   "execution_count": 0,
   "metadata": {
    "application/vnd.databricks.v1+cell": {
     "cellMetadata": {
      "byteLimit": 2048000,
      "rowLimit": 10000
     },
     "inputWidgets": {},
     "nuid": "a6bbb147-d5a6-40e3-8e48-6aabab59eb08",
     "showTitle": false,
     "tableResultSettingsMap": {},
     "title": ""
    }
   },
   "outputs": [],
   "source": [
    "cleaned_text"
   ]
  },
  {
   "cell_type": "code",
   "execution_count": 0,
   "metadata": {
    "application/vnd.databricks.v1+cell": {
     "cellMetadata": {
      "byteLimit": 2048000,
      "rowLimit": 10000
     },
     "inputWidgets": {},
     "nuid": "d4793185-314e-4030-be6b-38a8d2577df3",
     "showTitle": false,
     "tableResultSettingsMap": {},
     "title": ""
    }
   },
   "outputs": [],
   "source": [
    "cleaned_text"
   ]
  },
  {
   "cell_type": "code",
   "execution_count": 0,
   "metadata": {
    "application/vnd.databricks.v1+cell": {
     "cellMetadata": {
      "byteLimit": 2048000,
      "rowLimit": 10000
     },
     "inputWidgets": {},
     "nuid": "f7b46c02-ba44-4b77-bf68-7c9cbe8fc6a3",
     "showTitle": false,
     "tableResultSettingsMap": {},
     "title": ""
    }
   },
   "outputs": [],
   "source": [
    "cleaned_text"
   ]
  },
  {
   "cell_type": "code",
   "execution_count": 0,
   "metadata": {
    "application/vnd.databricks.v1+cell": {
     "cellMetadata": {
      "byteLimit": 2048000,
      "rowLimit": 10000
     },
     "inputWidgets": {},
     "nuid": "1732b5f0-8610-4394-be7c-cdf35dba1b84",
     "showTitle": false,
     "tableResultSettingsMap": {},
     "title": ""
    }
   },
   "outputs": [],
   "source": [
    "cleaned_text"
   ]
  },
  {
   "cell_type": "code",
   "execution_count": 0,
   "metadata": {
    "application/vnd.databricks.v1+cell": {
     "cellMetadata": {
      "byteLimit": 2048000,
      "rowLimit": 10000
     },
     "inputWidgets": {},
     "nuid": "fdde3eb5-5355-40e9-89ad-6222dd0b4fab",
     "showTitle": false,
     "tableResultSettingsMap": {},
     "title": ""
    }
   },
   "outputs": [],
   "source": [
    "errors"
   ]
  },
  {
   "cell_type": "code",
   "execution_count": 0,
   "metadata": {
    "application/vnd.databricks.v1+cell": {
     "cellMetadata": {
      "byteLimit": 2048000,
      "rowLimit": 10000
     },
     "inputWidgets": {},
     "nuid": "cb1c06e2-cf87-4858-8395-4dddbf8adb0b",
     "showTitle": false,
     "tableResultSettingsMap": {},
     "title": ""
    }
   },
   "outputs": [],
   "source": [
    "errors"
   ]
  },
  {
   "cell_type": "code",
   "execution_count": 0,
   "metadata": {
    "application/vnd.databricks.v1+cell": {
     "cellMetadata": {
      "byteLimit": 2048000,
      "rowLimit": 10000
     },
     "inputWidgets": {},
     "nuid": "958c96ea-61c7-4c85-a00e-99fcbf8777c0",
     "showTitle": false,
     "tableResultSettingsMap": {},
     "title": ""
    }
   },
   "outputs": [],
   "source": [
    "errors"
   ]
  },
  {
   "cell_type": "code",
   "execution_count": 0,
   "metadata": {
    "application/vnd.databricks.v1+cell": {
     "cellMetadata": {
      "byteLimit": 2048000,
      "rowLimit": 10000
     },
     "inputWidgets": {},
     "nuid": "51ded310-ff3b-4660-9378-ba37f39a8efc",
     "showTitle": false,
     "tableResultSettingsMap": {},
     "title": ""
    }
   },
   "outputs": [],
   "source": [
    "errors"
   ]
  },
  {
   "cell_type": "code",
   "execution_count": 0,
   "metadata": {
    "application/vnd.databricks.v1+cell": {
     "cellMetadata": {
      "byteLimit": 2048000,
      "rowLimit": 10000
     },
     "inputWidgets": {},
     "nuid": "284a5d36-c8cc-425e-b57a-74ea444f468c",
     "showTitle": true,
     "tableResultSettingsMap": {},
     "title": "save data"
    }
   },
   "outputs": [],
   "source": [
    "if(rows != []):\n",
    "    df = spark.createDataFrame(rows)\n",
    "    df.display()\n",
    "    df.write.mode(\"append\").saveAsTable(f\"{CATALOG}.bronze.gdelt_tonechart\")\n",
    "\n",
    "print(f\"Descargados: {downloaded} | Saltados: {skipped} | Errores: {len(errors)}\")\n",
    "if errors:\n",
    "    display(spark.createDataFrame(errors, schema=\"ts string, error string\"))"
   ]
  }
 ],
 "metadata": {
  "application/vnd.databricks.v1+notebook": {
   "computePreferences": null,
   "dashboards": [],
   "environmentMetadata": {
    "base_environment": "",
    "environment_version": "2"
   },
   "inputWidgetPreferences": null,
   "language": "python",
   "notebookMetadata": {
    "pythonIndentUnit": 4
   },
   "notebookName": "01b-bronze_gdelt_fetch_to_landing.py",
   "widgets": {
    "only_missing": {
     "currentValue": "true",
     "nuid": "55fec3a7-f7c7-4b6c-a52a-eaed87f13807",
     "typedWidgetInfo": {
      "autoCreated": false,
      "defaultValue": "true",
      "label": null,
      "name": "only_missing",
      "options": {
       "validationRegex": null,
       "widgetDisplayType": "Text"
      },
      "parameterDataType": "String"
     },
     "widgetInfo": {
      "defaultValue": "true",
      "label": null,
      "name": "only_missing",
      "options": {
       "autoCreated": null,
       "validationRegex": null,
       "widgetType": "text"
      },
      "widgetType": "text"
     }
    }
   }
  },
  "language_info": {
   "name": "python"
  }
 },
 "nbformat": 4,
 "nbformat_minor": 0
}
