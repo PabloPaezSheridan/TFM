{
 "cells": [
  {
   "cell_type": "code",
   "execution_count": 0,
   "metadata": {
    "application/vnd.databricks.v1+cell": {
     "cellMetadata": {
      "byteLimit": 2048000,
      "rowLimit": 10000
     },
     "inputWidgets": {},
     "nuid": "38c8c103-8ea7-4794-a601-625678daaa80",
     "showTitle": false,
     "tableResultSettingsMap": {
      "0": {
       "dataGridStateBlob": "{\"version\":1,\"tableState\":{\"columnPinning\":{\"left\":[\"#row_number#\"],\"right\":[]},\"columnSizing\":{\"ts\":148,\"error\":674},\"columnVisibility\":{}},\"settings\":{\"columns\":{}},\"syncTimestamp\":1757201173872}",
       "filterBlob": null,
       "queryPlanFiltersBlob": null,
       "tableResultIndex": 0
      }
     },
     "title": ""
    }
   },
   "outputs": [],
   "source": [
    "import requests\n",
    "from datetime import datetime\n",
    "\n",
    "# Databricks notebook source\n",
    "# Descarga GDELT GKG v2.1 (.gkg.csv.zip), descomprime y guarda como .csv en landing.\n",
    "# Luego, tu Auto Loader (bronze_gdelt_autoloader.py) toma esos .csv y los carga a bronze.gdelt_gkg_raw.\n",
    "\n",
    "BASE = \"https://api.gdeltproject.org/api/v2/doc/doc\"\n",
    "\n",
    "def gdelt_gkg_url(company_alias: list[str], ts: str) -> str:\n",
    "    # Construye la parte de la query con los alias\n",
    "    query = \"%20OR%20\".join([f'\"{alias}\"' for alias in company_alias])\n",
    "    query = f\"({query})\"\n",
    "    return f\"{BASE}?query={query}&ts={ts}&mode=tonechart&format=json\"\n",
    "\n",
    "downloaded, skipped, errors = 0, 0, []\n",
    "\n",
    "for c in companies:\n",
    "    try:\n",
    "        # company_alias debe ser una lista de strings, por ejemplo: [\"NVIDIA\", \"Nvidia\"]\n",
    "        url = gdelt_gkg_url(c.company_alias, \"24hs\")\n",
    "\n",
    "        response = requests.get(url)\n",
    "        response.raise_for_status()\n",
    "        data = response.json()\n",
    "\n",
    "        # Extrae la fecha actual (puedes ajustar si quieres la fecha de la request)\n",
    "        date = datetime.now().strftime(\"%Y-%m-%d\")\n",
    "\n",
    "        # Construye las filas para cada bin\n",
    "        rows = []\n",
    "        for bin_info in data.get(\"tonechart\", []):\n",
    "            rows.append({\n",
    "            \"company_name\": c.company_name,\n",
    "            \"date\": date,\n",
    "            \"bin\": bin_info[\"bin\"],\n",
    "            \"count\": bin_info[\"count\"]\n",
    "            })\n",
    "\n",
    "        # Si hay filas, crea el DataFrame y guárdalo (puedes cambiar el nombre del archivo/tabla)\n",
    "        if rows:\n",
    "            df = spark.createDataFrame(rows)\n",
    "            df.write.mode(\"append\").saveAsTable(\"bronze.gdelt_tonechart\")\n",
    "        else:\n",
    "            skipped += 1\n",
    "        downloaded += 1\n",
    "    except Exception as e:\n",
    "        errors.append((c.company_name, str(e)))\n",
    "\n",
    "print(f\"Descargados: {downloaded} | Saltados: {skipped} | Errores: {len(errors)}\")\n",
    "if errors:\n",
    "    display(spark.createDataFrame(errors, schema=\"ts string, error string\"))"
   ]
  }
 ],
 "metadata": {
  "application/vnd.databricks.v1+notebook": {
   "computePreferences": null,
   "dashboards": [],
   "environmentMetadata": {
    "base_environment": "",
    "environment_version": "2"
   },
   "inputWidgetPreferences": null,
   "language": "python",
   "notebookMetadata": {
    "pythonIndentUnit": 4
   },
   "notebookName": "01b-bronze_gdelt_fetch_to_landing.py",
   "widgets": {
    "only_missing": {
     "currentValue": "true",
     "nuid": "55fec3a7-f7c7-4b6c-a52a-eaed87f13807",
     "typedWidgetInfo": {
      "autoCreated": false,
      "defaultValue": "true",
      "label": null,
      "name": "only_missing",
      "options": {
       "validationRegex": null,
       "widgetDisplayType": "Text"
      },
      "parameterDataType": "String"
     },
     "widgetInfo": {
      "defaultValue": "true",
      "label": null,
      "name": "only_missing",
      "options": {
       "autoCreated": null,
       "validationRegex": null,
       "widgetType": "text"
      },
      "widgetType": "text"
     }
    }
   }
  },
  "language_info": {
   "name": "python"
  }
 },
 "nbformat": 4,
 "nbformat_minor": 0
}
