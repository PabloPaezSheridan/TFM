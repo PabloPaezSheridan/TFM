{
 "cells": [
  {
   "cell_type": "code",
   "execution_count": 0,
   "metadata": {
    "application/vnd.databricks.v1+cell": {
     "cellMetadata": {
      "byteLimit": 2048000,
      "rowLimit": 10000
     },
     "inputWidgets": {},
     "nuid": "38c8c103-8ea7-4794-a601-625678daaa80",
     "showTitle": false,
     "tableResultSettingsMap": {
      "0": {
       "dataGridStateBlob": "{\"version\":1,\"tableState\":{\"columnPinning\":{\"left\":[\"#row_number#\"],\"right\":[]},\"columnSizing\":{\"ts\":148,\"error\":674},\"columnVisibility\":{}},\"settings\":{\"columns\":{}},\"syncTimestamp\":1757201173872}",
       "filterBlob": null,
       "queryPlanFiltersBlob": null,
       "tableResultIndex": 0
      }
     },
     "title": ""
    }
   },
   "outputs": [],
   "source": [
    "# Databricks notebook source\n",
    "# Descarga GDELT GKG v2.1 (.gkg.csv.zip), descomprime y guarda como .csv.gz en landing.\n",
    "# Luego, tu Auto Loader (bronze_gdelt_autoloader.py) toma esos .csv.gz y los carga a bronze.gdelt_gkg_raw.\n",
    "\n",
    "import datetime as dt\n",
    "from datetime import timedelta\n",
    "# Si los widgets vienen vacíos, fijar ventana por defecto\n",
    "now_utc = dt.datetime.utcnow()\n",
    "default_start = (now_utc - timedelta(days=1)).date().isoformat()\n",
    "end_date_s  = now_utc.date().isoformat()\n",
    "\n",
    "try:\n",
    "    last_ts = spark.sql(\"select max(date_gkg) from ptd_dev.bronze.gdelt_gkg_raw\").collect()[0][0]\n",
    "except Exception as e:\n",
    "    last_ts = None\n",
    "\n",
    "if last_ts:\n",
    "    start_date_s = (last_ts - timedelta(hours=1)).date().isoformat()\n",
    "else:\n",
    "    start_date_s = default_start\n",
    "\n",
    "dbutils.widgets.text(\"only_missing\", \"true\")      # si true, salta archivos que ya existen\n",
    "\n",
    "import datetime as dt\n",
    "from datetime import timezone, timedelta\n",
    "import io, gzip, os\n",
    "import requests\n",
    "from zipfile import ZipFile\n",
    "\n",
    "start_date = dt.datetime.fromisoformat(start_date_s)\n",
    "end_date_s = end_date_s.strip()\n",
    "end_date = (dt.datetime.fromisoformat(end_date_s) if end_date_s else dt.datetime.utcnow()).replace(tzinfo=None)\n",
    "\n",
    "only_missing = dbutils.widgets.get(\"only_missing\").lower() == \"true\"\n",
    "\n",
    "# Convenciones DBFS/Volumes:\n",
    "# - Para ESCRIBIR archivos con Python use /dbfs prefix\n",
    "# - Para LEER con Spark, use la ruta sin /dbfs\n",
    "dbfs_landing = \"/dbfs/Volumes/ptd_dev/bronze/raw/gdelt_gkg\"\n",
    "\n",
    "dbutils.fs.mkdirs(dbfs_landing)\n",
    "\n",
    "BASE = \"http://data.gdeltproject.org/gdeltv2\"\n",
    "\n",
    "def iter_times_15min(start: dt.datetime, end: dt.datetime):\n",
    "    # GDELT publica en cortes de 15m: 00,15,30,45\n",
    "    cur = start.replace(minute=(start.minute//15)*15, second=0, microsecond=0)\n",
    "    while cur <= end:\n",
    "        yield cur\n",
    "        cur += timedelta(minutes=15)\n",
    "\n",
    "def gdelt_gkg_url(ts: dt.datetime) -> str:\n",
    "    tsstr = ts.strftime(\"%Y%m%d%H%M%S\")\n",
    "    return f\"{BASE}/{tsstr}.gkg.csv.zip\", tsstr\n",
    "\n",
    "downloaded, skipped, errors = 0, 0, []\n",
    "\n",
    "for ts in iter_times_15min(start_date, end_date):\n",
    "    url, tsstr = gdelt_gkg_url(ts)\n",
    "    out_gz = f\"{dbfs_landing}/{tsstr}.gkg.csv.gz\"\n",
    "\n",
    "    if only_missing and os.path.exists(out_gz):\n",
    "        skipped += 1\n",
    "        continue\n",
    "\n",
    "    try:\n",
    "        r = requests.get(url, timeout=60)\n",
    "        if r.status_code != 200:\n",
    "            # No todos los cortes existen; omitir 404\n",
    "            if r.status_code != 404:\n",
    "                errors.append((tsstr, f\"HTTP {r.status_code}\"))\n",
    "            continue\n",
    "\n",
    "        with ZipFile(io.BytesIO(r.content)) as zf:\n",
    "            # Debe contener 1 CSV. Tomamos el primero .csv\n",
    "            members = [n for n in zf.namelist() if n.lower().endswith(\".csv\")]\n",
    "            if not members:\n",
    "                errors.append((tsstr, \"ZIP sin CSV\"))\n",
    "                continue\n",
    "\n",
    "            with zf.open(members[0]) as csv_in:\n",
    "                raw = csv_in.read()\n",
    "                \n",
    "        out_gz_tmp = f\"/dbfs/tmp/{tsstr}.gkg.csv.gz\"\n",
    "        with gzip.open(out_gz_tmp, \"wb\") as gz_out:\n",
    "            gz_out.write(raw)\n",
    "            \n",
    "        dbutils.fs.mv(f\"dbfs:/tmp/{tsstr}.gkg.csv.gz\", f\"dbfs:/Volumes/ptd_dev/bronze/raw/gdelt_gkg/{tsstr}.gkg.csv.gz\")\n",
    "        downloaded += 1\n",
    "    except Exception as e:\n",
    "        errors.append((tsstr, str(e)))\n",
    "\n",
    "print(f\"Descargados: {downloaded} | Saltados: {skipped} | Errores: {len(errors)}\")\n",
    "if errors:\n",
    "    display(spark.createDataFrame(errors, schema=\"ts string, error string\"))"
   ]
  }
 ],
 "metadata": {
  "application/vnd.databricks.v1+notebook": {
   "computePreferences": null,
   "dashboards": [],
   "environmentMetadata": {
    "base_environment": "",
    "environment_version": "2"
   },
   "inputWidgetPreferences": null,
   "language": "python",
   "notebookMetadata": {
    "pythonIndentUnit": 4
   },
   "notebookName": "01b-bronze_gdelt_fetch_to_landing.py",
   "widgets": {
    "only_missing": {
     "currentValue": "true",
     "nuid": "55fec3a7-f7c7-4b6c-a52a-eaed87f13807",
     "typedWidgetInfo": {
      "autoCreated": false,
      "defaultValue": "true",
      "label": null,
      "name": "only_missing",
      "options": {
       "validationRegex": null,
       "widgetDisplayType": "Text"
      },
      "parameterDataType": "String"
     },
     "widgetInfo": {
      "defaultValue": "true",
      "label": null,
      "name": "only_missing",
      "options": {
       "autoCreated": null,
       "validationRegex": null,
       "widgetType": "text"
      },
      "widgetType": "text"
     }
    }
   }
  },
  "language_info": {
   "name": "python"
  }
 },
 "nbformat": 4,
 "nbformat_minor": 0
}
