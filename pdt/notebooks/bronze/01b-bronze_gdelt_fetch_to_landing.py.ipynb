{
 "cells": [
  {
   "cell_type": "code",
   "execution_count": 0,
   "metadata": {
    "application/vnd.databricks.v1+cell": {
     "cellMetadata": {
      "byteLimit": 2048000,
      "rowLimit": 10000
     },
     "inputWidgets": {},
     "nuid": "f3b410fb-aa94-42b4-8ba1-c347537a87a1",
     "showTitle": true,
     "tableResultSettingsMap": {},
     "title": "initial settings"
    }
   },
   "outputs": [],
   "source": [
    "import requests\n",
    "import re\n",
    "import json\n",
    "from datetime import datetime\n",
    "import pytz\n",
    "from pyspark.sql import functions as F\n",
    "import urllib.parse\n",
    "\n",
    "CATALOG = \"ptd_dev\"\n",
    "BASE = \"https://api.gdeltproject.org/api/v2/doc/doc\"\n",
    "\n",
    "spark.sql(f\"\"\"\n",
    "CREATE TABLE IF NOT EXISTS {CATALOG}.bronze.gdelt_tonechart (\n",
    "    company_name STRING,\n",
    "    date STRING,\n",
    "    bin LONG,\n",
    "    count LONG,\n",
    "    ingestion_ts TIMESTAMP\n",
    ")\n",
    "USING DELTA\n",
    "\"\"\")\n",
    "\n",
    "eastern = pytz.timezone(\"US/Eastern\")\n",
    "dbutils.widgets.text(\"date\", datetime.now(eastern).strftime(\"%Y-%m-%d\"))"
   ]
  },
  {
   "cell_type": "code",
   "execution_count": 0,
   "metadata": {
    "application/vnd.databricks.v1+cell": {
     "cellMetadata": {
      "byteLimit": 2048000,
      "rowLimit": 10000
     },
     "inputWidgets": {},
     "nuid": "274b5e78-7662-4ef9-a8bd-8929d4b510a0",
     "showTitle": true,
     "tableResultSettingsMap": {},
     "title": "clean gdelt json response"
    }
   },
   "outputs": [],
   "source": [
    "def cleaned_gdelt_json_response(response):\n",
    "    text = response.text\n",
    "    matches = re.findall(r'\\{\\s*\"bin\"\\s*:\\s*(-?\\d+),\\s*\"count\"\\s*:\\s*(\\d+)', text)\n",
    "    cleaned = {'tonechart': []}\n",
    "    for bin_val, count_val in matches:\n",
    "        cleaned['tonechart'].append({'bin': int(bin_val), 'count': int(count_val)})\n",
    "    return json.dumps(cleaned)\n",
    "\n",
    "def gdelt_api_url(company_alias: list[str], date: str) -> str:\n",
    "    dt_obj = datetime.strptime(date, \"%Y-%m-%d\")\n",
    "    start = dt_obj.replace(hour=0, minute=0, second=0).strftime(\"%Y%m%d%H%M%S\")\n",
    "    end = dt_obj.replace(hour=21, minute=45, second=0).strftime(\"%Y%m%d%H%M%S\")\n",
    "    if len(company_alias) > 1: \n",
    "        query = \" OR \".join([f'\"{alias}\"' for alias in company_alias])\n",
    "        query = f\"({query})\"\n",
    "    else:\n",
    "        query = f'\"{company_alias[0]}\"'\n",
    "    return f\"{BASE}?query={urllib.parse.quote_plus(query)}&STARTDATETIME={start}&ENDDATETIME={end}&mode=tonechart&format=json\""
   ]
  },
  {
   "cell_type": "code",
   "execution_count": 0,
   "metadata": {
    "application/vnd.databricks.v1+cell": {
     "cellMetadata": {
      "byteLimit": 2048000,
      "rowLimit": 10000
     },
     "inputWidgets": {},
     "nuid": "38c8c103-8ea7-4794-a601-625678daaa80",
     "showTitle": true,
     "tableResultSettingsMap": {},
     "title": "get gdelt data"
    }
   },
   "outputs": [],
   "source": [
    "date = dbutils.widgets.get(\"date\")\n",
    "\n",
    "rows, downloaded, skipped, errors = [], 0, 0, []\n",
    "\n",
    "companies = spark.table(f\"{CATALOG}.bronze.universe_sp100_snapshot\").filter(\"active_flag = 1\").collect()\n",
    "\n",
    "for c in companies:\n",
    "    try:\n",
    "        df = spark.table(f\"{CATALOG}.bronze.gdelt_tonechart\").filter(\n",
    "            (F.col(\"company_name\") == c.company_name) &\n",
    "            (F.col(\"date\") == date)\n",
    "        )\n",
    "        if df.count() == 0:\n",
    "            aliases = []\n",
    "            if \" - \" in c.company_alias:\n",
    "                aliases = c.company_alias.split(\" - \")\n",
    "            else:\n",
    "                aliases.append(c.company_alias)\n",
    "            url = gdelt_api_url(aliases, date)\n",
    "\n",
    "            response = requests.get(url)\n",
    "            response.raise_for_status()\n",
    "            date_str = date\n",
    "\n",
    "            cleaned_text = cleaned_gdelt_json_response(response)\n",
    "            data = json.loads(cleaned_text)\n",
    "            for bin_info in data.get('tonechart', []):\n",
    "                bin_value = bin_info.get('bin')\n",
    "                count_value = bin_info.get('count')\n",
    "                rows.append({\n",
    "                    \"company_name\": c.company_name,\n",
    "                    \"date\": date_str,\n",
    "                    \"bin\": bin_value,\n",
    "                    \"count\": count_value\n",
    "                })\n",
    "            if len(rows) > 0:\n",
    "                downloaded+=1\n",
    "            else:\n",
    "                errors.append((c.company_name, \"No data\"))\n",
    "                skipped += 1\n",
    "        else:\n",
    "            skipped += 1   \n",
    "    except Exception as e:\n",
    "        errors.append((c.company_name, str(e)))\n",
    "        skipped += 1"
   ]
  },
  {
   "cell_type": "code",
   "execution_count": 0,
   "metadata": {
    "application/vnd.databricks.v1+cell": {
     "cellMetadata": {
      "byteLimit": 2048000,
      "rowLimit": 10000
     },
     "inputWidgets": {},
     "nuid": "cdbe8c5e-16dc-4769-83db-714c648c35d2",
     "showTitle": false,
     "tableResultSettingsMap": {},
     "title": ""
    }
   },
   "outputs": [],
   "source": [
    "if(rows != []):\n",
    "    df = spark.createDataFrame(rows)\n",
    "    df = df.withColumn(\"ingestion_ts\", F.current_timestamp())\n",
    "    df.write.mode(\"append\").saveAsTable(f\"{CATALOG}.bronze.gdelt_tonechart\")\n",
    "    \n",
    "print(f\"Descargados: {downloaded} | Saltados: {skipped} | Errores: {len(errors)}\")\n",
    "if errors:\n",
    "    display(spark.createDataFrame(errors))"
   ]
  }
 ],
 "metadata": {
  "application/vnd.databricks.v1+notebook": {
   "computePreferences": null,
   "dashboards": [],
   "environmentMetadata": {
    "base_environment": "",
    "environment_version": "2"
   },
   "inputWidgetPreferences": null,
   "language": "python",
   "notebookMetadata": {
    "pythonIndentUnit": 4
   },
   "notebookName": "01b-bronze_gdelt_fetch_to_landing.py",
   "widgets": {
    "date": {
     "currentValue": "2025-09-17",
     "nuid": "8e1f6d48-c5bc-4772-b217-54443209a32c",
     "typedWidgetInfo": {
      "autoCreated": false,
      "defaultValue": "2025-09-18",
      "label": null,
      "name": "date",
      "options": {
       "validationRegex": null,
       "widgetDisplayType": "Text"
      },
      "parameterDataType": "String"
     },
     "widgetInfo": {
      "defaultValue": "2025-09-18",
      "label": null,
      "name": "date",
      "options": {
       "autoCreated": false,
       "validationRegex": null,
       "widgetType": "text"
      },
      "widgetType": "text"
     }
    },
    "only_missing": {
     "currentValue": "true",
     "nuid": "55fec3a7-f7c7-4b6c-a52a-eaed87f13807",
     "typedWidgetInfo": {
      "autoCreated": false,
      "defaultValue": "true",
      "label": null,
      "name": "only_missing",
      "options": {
       "validationRegex": null,
       "widgetDisplayType": "Text"
      },
      "parameterDataType": "String"
     },
     "widgetInfo": {
      "defaultValue": "true",
      "label": null,
      "name": "only_missing",
      "options": {
       "autoCreated": null,
       "validationRegex": null,
       "widgetType": "text"
      },
      "widgetType": "text"
     }
    }
   }
  },
  "language_info": {
   "name": "python"
  }
 },
 "nbformat": 4,
 "nbformat_minor": 0
}
