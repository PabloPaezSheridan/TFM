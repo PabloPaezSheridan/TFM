{
 "cells": [
  {
   "cell_type": "code",
   "execution_count": 0,
   "metadata": {
    "application/vnd.databricks.v1+cell": {
     "cellMetadata": {
      "byteLimit": 2048000,
      "rowLimit": 10000
     },
     "inputWidgets": {},
     "nuid": "184ae488-d878-4eb2-bb10-6a9d6829f620",
     "showTitle": true,
     "tableResultSettingsMap": {},
     "title": "create bronze.universe_sp100_snapshot"
    }
   },
   "outputs": [],
   "source": [
    "dbutils.widgets.text(\"base\", \"/Volumes/ptd_dev/bronze/raw/static\")\n",
    "dbutils.widgets.text(\"target_table\", \"ptd_dev.bronze.universe_sp100_snapshot\")\n",
    "\n",
    "base = dbutils.widgets.get(\"base\")\n",
    "target = dbutils.widgets.get(\"target_table\")\n",
    "\n",
    "from pyspark.sql.functions import upper, col\n",
    "\n",
    "df = (spark.read.option(\"header\", True).option(\"inferSchema\", True)\n",
    "      .csv(f\"{base}/universe_sp100_snapshot.csv\")) \\\n",
    "      .withColumn(\"ticker\", upper(col(\"ticker\"))) \\\n",
    "      .withColumn(\"sector\", upper(col(\"sector\"))) \\\n",
    "      .withColumn(\"industry\", upper(col(\"industry\")))\n",
    "\n",
    "df.write.mode(\"overwrite\").format(\"delta\").saveAsTable(target)"
   ]
  },
  {
   "cell_type": "code",
   "execution_count": 0,
   "metadata": {
    "application/vnd.databricks.v1+cell": {
     "cellMetadata": {},
     "inputWidgets": {},
     "nuid": "d986cb78-ae3b-4e23-bfbd-1c7edb530f8b",
     "showTitle": true,
     "tableResultSettingsMap": {},
     "title": "create bronze.ticker_aliases"
    }
   },
   "outputs": [],
   "source": [
    "dbutils.widgets.text(\"base\", \"/Volumes/ptd_dev/bronze/raw/static\")\n",
    "dbutils.widgets.text(\"target_table\", \"ptd_dev.bronze.ticker_aliases\")\n",
    "\n",
    "base = dbutils.widgets.get(\"base\")\n",
    "target = dbutils.widgets.get(\"target_table\")\n",
    "\n",
    "from pyspark.sql.functions import upper, col\n",
    "\n",
    "df = (spark.read.option(\"header\", True).option(\"inferSchema\", True)\n",
    "      .csv(f\"{base}/ticker_aliases.csv\")) \\\n",
    "      .withColumn(\"alias\", upper(col(\"alias\"))) \\\n",
    "      .withColumn(\"ticker\", upper(col(\"ticker\"))) \\\n",
    "      .dropDuplicates([\"alias\", \"ticker\"])  # limpia duplicados exactos\n",
    "\n",
    "df.write.mode(\"overwrite\").format(\"delta\").saveAsTable(target)"
   ]
  }
 ],
 "metadata": {
  "application/vnd.databricks.v1+notebook": {
   "computePreferences": null,
   "dashboards": [],
   "environmentMetadata": {
    "base_environment": "",
    "environment_version": "2"
   },
   "inputWidgetPreferences": null,
   "language": "python",
   "notebookMetadata": {
    "pythonIndentUnit": 4
   },
   "notebookName": "00-create_bronze_static_tables",
   "widgets": {}
  },
  "language_info": {
   "name": "python"
  }
 },
 "nbformat": 4,
 "nbformat_minor": 0
}
