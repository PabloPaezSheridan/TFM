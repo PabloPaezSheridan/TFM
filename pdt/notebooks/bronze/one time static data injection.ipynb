{
 "cells": [
  {
   "cell_type": "code",
   "execution_count": 0,
   "metadata": {
    "application/vnd.databricks.v1+cell": {
     "cellMetadata": {
      "byteLimit": 2048000,
      "rowLimit": 10000
     },
     "inputWidgets": {},
     "nuid": "8d8ef2f1-8605-410c-a3d0-5101021dfbc8",
     "showTitle": false,
     "tableResultSettingsMap": {},
     "title": ""
    }
   },
   "outputs": [],
   "source": [
    "from pyspark.sql import Row\n",
    "\n",
    "# escribir algo temporal\n",
    "spark.createDataFrame([Row(x=1)]).write.mode(\"overwrite\").format(\"delta\").save(\"/Volumes/ptd_dev/bronze/raw/_tmp_delta\")\n",
    "\n",
    "# listar para validar\n",
    "display(dbutils.fs.ls(\"/Volumes/ptd_dev/bronze/raw/_tmp_delta\"))\n",
    "\n",
    "# limpiar\n",
    "dbutils.fs.rm(\"/Volumes/ptd_dev/bronze/raw/_tmp_delta\", True)"
   ]
  },
  {
   "cell_type": "code",
   "execution_count": 0,
   "metadata": {
    "application/vnd.databricks.v1+cell": {
     "cellMetadata": {
      "byteLimit": 2048000,
      "rowLimit": 10000
     },
     "inputWidgets": {},
     "nuid": "01a92d47-d434-4805-a482-49348da27424",
     "showTitle": false,
     "tableResultSettingsMap": {
      "0": {
       "dataGridStateBlob": "{\"version\":1,\"tableState\":{\"columnPinning\":{\"left\":[\"#row_number#\"],\"right\":[]},\"columnSizing\":{},\"columnVisibility\":{}},\"settings\":{\"columns\":{}},\"syncTimestamp\":1757774104826}",
       "filterBlob": null,
       "queryPlanFiltersBlob": null,
       "tableResultIndex": 0
      }
     },
     "title": ""
    }
   },
   "outputs": [],
   "source": [
    "spark.sql(\"USE CATALOG ptd_dev\")\n",
    "spark.sql(\"USE SCHEMA bronze\")\n",
    "\n",
    "base = \"/Volumes/ptd_dev/bronze/raw/static/\"\n",
    "\n",
    "from pyspark.sql.types import StructType, StructField, StringType, IntegerType, DateType\n",
    "\n",
    "# Carga Universe SP100 (snapshot)\n",
    "df_uni = (spark.read\n",
    "          .option(\"header\", True)\n",
    "          .option(\"inferSchema\", True)\n",
    "          .csv(f\"{base}/universe_sp100_snapshot.csv\"))\n",
    "display(df_uni)\n",
    "# Normaliza columnas clave\n",
    "from pyspark.sql.functions import upper, col\n",
    "df_uni = (df_uni\n",
    "          .withColumn(\"ticker\", upper(col(\"ticker\")))\n",
    "          .withColumn(\"sector\", upper(col(\"sector\"))))\n",
    "df_uni.write.mode(\"overwrite\").saveAsTable(\"ptd_dev.bronze.universe_sp100_snapshot\")\n",
    "\n",
    "# Carga Ticker Aliases\n",
    "df_alias = (spark.read\n",
    "            .option(\"header\", True)\n",
    "            .option(\"inferSchema\", True)\n",
    "            .csv(f\"{base}/ticker_aliases.csv\"))\n",
    "df_alias = df_alias.withColumn(\"alias\", upper(col(\"alias\"))) \\\n",
    "                   .withColumn(\"ticker\", upper(col(\"ticker\")))\n",
    "df_alias.write.mode(\"overwrite\").saveAsTable(\"ptd_dev.bronze.ticker_aliases\")"
   ]
  },
  {
   "cell_type": "code",
   "execution_count": 0,
   "metadata": {
    "application/vnd.databricks.v1+cell": {
     "cellMetadata": {
      "byteLimit": 2048000,
      "rowLimit": 10000
     },
     "inputWidgets": {},
     "nuid": "5e7554ca-1946-4b46-a66b-6a3904400337",
     "showTitle": false,
     "tableResultSettingsMap": {},
     "title": ""
    }
   },
   "outputs": [],
   "source": [
    "# Quitar duplicados exactos\n",
    "# Usá la sesión de Spark para leer la tabla como DataFrame\n",
    "df_alias = spark.table(\"ptd_dev.bronze.ticker_aliases\")\n",
    "df_alias_clean = df_alias.dropDuplicates([\"alias\", \"ticker\"])\n",
    "df_alias_clean.write.mode(\"overwrite\").saveAsTable(\"ptd_dev.bronze.ticker_aliases\")"
   ]
  }
 ],
 "metadata": {
  "application/vnd.databricks.v1+notebook": {
   "computePreferences": null,
   "dashboards": [],
   "environmentMetadata": {
    "base_environment": "",
    "environment_version": "2"
   },
   "inputWidgetPreferences": null,
   "language": "python",
   "notebookMetadata": {
    "pythonIndentUnit": 4
   },
   "notebookName": "one time static data injection",
   "widgets": {}
  },
  "language_info": {
   "name": "python"
  }
 },
 "nbformat": 4,
 "nbformat_minor": 0
}
