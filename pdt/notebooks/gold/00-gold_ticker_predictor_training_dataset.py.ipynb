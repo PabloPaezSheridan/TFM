{
 "cells": [
  {
   "cell_type": "code",
   "execution_count": 0,
   "metadata": {
    "application/vnd.databricks.v1+cell": {
     "cellMetadata": {
      "byteLimit": 2048000,
      "rowLimit": 10000
     },
     "inputWidgets": {},
     "nuid": "eb74ee00-2a32-4191-b169-157cbbf7d5ed",
     "showTitle": true,
     "tableResultSettingsMap": {},
     "title": "import silver data"
    }
   },
   "outputs": [],
   "source": [
    "from pyspark.sql import functions as F, Window as W\n",
    "import datetime as dt\n",
    "\n",
    "dbutils.widgets.text(\"catalog\", \"ptd_dev\")\n",
    "catalog       = dbutils.widgets.get(\"catalog\")\n",
    "spark.sql(f\"USE CATALOG {catalog}\")\n",
    "\n",
    "prices = spark.table(\"silver.prices_daily\").drop(\"source\",\"ingestion_ts\")\n",
    "news = spark.table(\"silver.ticker_news_tone\").select(\"ticker\", \"date\", \"weighted_gdelt_tone_avg\", \"news_count\")\n",
    "gold = spark.table(\"gold.ticker_predictor_training_dataset\")\n",
    "\n"
   ]
  },
  {
   "cell_type": "code",
   "execution_count": 0,
   "metadata": {
    "application/vnd.databricks.v1+cell": {
     "cellMetadata": {
      "byteLimit": 2048000,
      "rowLimit": 10000
     },
     "inputWidgets": {},
     "nuid": "b7dce179-8924-4874-a701-f8fd0885ae35",
     "showTitle": true,
     "tableResultSettingsMap": {},
     "title": "join and target variable"
    }
   },
   "outputs": [],
   "source": [
    "prices_agg = prices.groupBy(\"ticker\", \"date\").agg(\n",
    "    F.last(\"adj_close\").alias(\"adj_close\"),\n",
    "    F.last(\"open\").alias(\"open\"),\n",
    "    F.last(\"high\").alias(\"high\"),\n",
    "    F.last(\"low\").alias(\"low\"),\n",
    "    F.last(\"volume\").alias(\"volume\")\n",
    ")\n",
    "news_agg = news.groupBy(\"ticker\", \"date\").agg(\n",
    "    F.avg(\"weighted_gdelt_tone_avg\").alias(\"weighted_gdelt_tone_avg\"),\n",
    "    F.sum(\"news_count\").alias(\"news_count\")\n",
    ")\n",
    "dataset = prices_agg.join(news_agg, on=[\"ticker\", \"date\"], how=\"left\")\n",
    "dataset = dataset.withColumn(\"prev_close\", F.lag(\"adj_close\", 1).over(W.partitionBy(\"ticker\").orderBy(\"date\")))\n",
    "dataset = (dataset\n",
    "    .withColumn(\n",
    "        \"target_action\",\n",
    "        F.when(F.abs(F.col(\"adj_close\") - F.col(\"prev_close\")) < 0.10, F.lit(\"hold\"))\n",
    "         .when(F.col(\"adj_close\") > F.col(\"prev_close\"), F.lit(\"buy\"))\n",
    "         .when(F.col(\"adj_close\") < F.col(\"prev_close\"), F.lit(\"sell\"))\n",
    "         .otherwise(F.lit(\"hold\"))\n",
    "    )\n",
    ")"
   ]
  },
  {
   "cell_type": "code",
   "execution_count": 0,
   "metadata": {
    "application/vnd.databricks.v1+cell": {
     "cellMetadata": {
      "byteLimit": 2048000,
      "rowLimit": 10000
     },
     "inputWidgets": {},
     "nuid": "5edf2079-56e2-4451-810f-db58e0a85e62",
     "showTitle": true,
     "tableResultSettingsMap": {},
     "title": "predictions and logging"
    }
   },
   "outputs": [],
   "source": [
    "if spark.catalog.tableExists(\"gold.ticker_predictor_training_dataset\"):\n",
    "    existing = gold.withColumnRenamed(\"adj_close\", \"adj_close_existing\") \\\n",
    "                       .withColumnRenamed(\"weighted_gdelt_tone_avg\", \"weighted_gdelt_tone_avg_existing\")\n",
    "\n",
    "    joined = dataset.join(\n",
    "        existing.select(\"ticker\", \"date\", \"adj_close_existing\", \"weighted_gdelt_tone_avg_existing\"),\n",
    "        [\"ticker\", \"date\"],\n",
    "        \"left\"\n",
    "    )\n",
    "    new_rows = joined.filter(F.col(\"adj_close_existing\").isNull())\n",
    "    modified_rows = joined.filter(\n",
    "        (F.col(\"adj_close_existing\").isNotNull()) & (\n",
    "            (F.col(\"adj_close\") != F.col(\"adj_close_existing\")) |\n",
    "            (F.col(\"weighted_gdelt_tone_avg\") != F.col(\"weighted_gdelt_tone_avg_existing\"))\n",
    "        )\n",
    "    )\n",
    "    print(f\"New records: {new_rows.count()}\")\n",
    "    print(f\"Updated records: {modified_rows.count()}\")\n",
    "else:\n",
    "    print(f\"New records: {dataset.count()}\")\n",
    "    print(\"Updated records: 0\")\n"
   ]
  },
  {
   "cell_type": "code",
   "execution_count": 0,
   "metadata": {
    "application/vnd.databricks.v1+cell": {
     "cellMetadata": {
      "byteLimit": 2048000,
      "rowLimit": 10000
     },
     "inputWidgets": {},
     "nuid": "523fa4cd-f65b-438c-ae4f-39cc661da1ed",
     "showTitle": true,
     "tableResultSettingsMap": {},
     "title": "write in table"
    }
   },
   "outputs": [],
   "source": [
    "dataset = dataset.drop(\"prev_close\")\n",
    "dataset.write.mode(\"overwrite\").option(\"overwriteSchema\", \"true\").saveAsTable(\"gold.ticker_predictor_training_dataset\")"
   ]
  }
 ],
 "metadata": {
  "application/vnd.databricks.v1+notebook": {
   "computePreferences": null,
   "dashboards": [],
   "environmentMetadata": {
    "base_environment": "",
    "environment_version": "2"
   },
   "inputWidgetPreferences": null,
   "language": "python",
   "notebookMetadata": {
    "pythonIndentUnit": 4
   },
   "notebookName": "00-gold_ticker_predictor_training_dataset.py",
   "widgets": {
    "catalog": {
     "currentValue": "ptd_dev",
     "nuid": "99e51007-772b-413d-b51e-91e38be2d587",
     "typedWidgetInfo": {
      "autoCreated": false,
      "defaultValue": "ptd_dev",
      "label": null,
      "name": "catalog",
      "options": {
       "validationRegex": null,
       "widgetDisplayType": "Text"
      },
      "parameterDataType": "String"
     },
     "widgetInfo": {
      "defaultValue": "ptd_dev",
      "label": null,
      "name": "catalog",
      "options": {
       "autoCreated": null,
       "validationRegex": null,
       "widgetType": "text"
      },
      "widgetType": "text"
     }
    }
   }
  },
  "language_info": {
   "name": "python"
  }
 },
 "nbformat": 4,
 "nbformat_minor": 0
}
