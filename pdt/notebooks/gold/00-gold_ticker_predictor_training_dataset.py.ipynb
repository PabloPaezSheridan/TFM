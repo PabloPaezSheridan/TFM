{
 "cells": [
  {
   "cell_type": "code",
   "execution_count": 0,
   "metadata": {
    "application/vnd.databricks.v1+cell": {
     "cellMetadata": {
      "byteLimit": 2048000,
      "rowLimit": 10000
     },
     "inputWidgets": {},
     "nuid": "eb74ee00-2a32-4191-b169-157cbbf7d5ed",
     "showTitle": true,
     "tableResultSettingsMap": {},
     "title": "import silver data"
    }
   },
   "outputs": [],
   "source": [
    "from pyspark.sql import functions as F, Window as W\n",
    "\n",
    "dbutils.widgets.text(\"catalog\", \"ptd_dev\")\n",
    "catalog       = dbutils.widgets.get(\"catalog\")\n",
    "spark.sql(f\"USE CATALOG {catalog}\")\n",
    "\n",
    "prices = spark.table(\"silver.prices_daily\")\n",
    "news = spark.table(\"silver.ticker_news_tone\").select(\"ticker\", \"date\", \"weighted_gdelt_tone_avg\", \"news_count\")\n",
    "gold = spark.table(\"gold.ticker_predictor_training_dataset\")\n",
    "\n"
   ]
  },
  {
   "cell_type": "code",
   "execution_count": 0,
   "metadata": {
    "application/vnd.databricks.v1+cell": {
     "cellMetadata": {
      "byteLimit": 2048000,
      "rowLimit": 10000
     },
     "inputWidgets": {},
     "nuid": "6c7a266a-2e75-455a-8a3f-6bce560d20dd",
     "showTitle": true,
     "tableResultSettingsMap": {},
     "title": "filter by last record already in gold"
    }
   },
   "outputs": [],
   "source": [
    "if not spark.catalog.tableExists(\"gold.ticker_predictor_training_dataset\"):\n",
    "    prices_to_process = prices\n",
    "    news_to_process = news\n",
    "else:\n",
    "    last_valid = (gold\n",
    "        .filter(F.col(\"adj_close\").isNotNull() & F.col(\"weighted_gdelt_tone_avg\").isNotNull())\n",
    "        .groupBy(\"ticker\")\n",
    "        .agg(F.max(\"date\").alias(\"last_valid_date\"))\n",
    "    )\n",
    "    prices_to_process = prices.join(last_valid, on=\"ticker\", how=\"left\") \\\n",
    "        .filter((F.col(\"last_valid_date\").isNull()) | (F.col(\"date\") > F.col(\"last_valid_date\"))) \\\n",
    "        .drop(\"last_valid_date\")\n",
    "    news_to_process = news.join(last_valid, on=\"ticker\", how=\"left\") \\\n",
    "        .filter((F.col(\"last_valid_date\").isNull()) | (F.col(\"date\") > F.col(\"last_valid_date\"))) \\\n",
    "        .drop(\"last_valid_date\")"
   ]
  },
  {
   "cell_type": "code",
   "execution_count": 0,
   "metadata": {
    "application/vnd.databricks.v1+cell": {
     "cellMetadata": {
      "byteLimit": 2048000,
      "rowLimit": 10000
     },
     "inputWidgets": {},
     "nuid": "b5b35a8b-a5bd-462b-8c65-2cd35b9b5a7f",
     "showTitle": false,
     "tableResultSettingsMap": {},
     "title": ""
    }
   },
   "outputs": [],
   "source": [
    "display(news_to_process)"
   ]
  },
  {
   "cell_type": "code",
   "execution_count": 0,
   "metadata": {
    "application/vnd.databricks.v1+cell": {
     "cellMetadata": {
      "byteLimit": 2048000,
      "rowLimit": 10000
     },
     "inputWidgets": {},
     "nuid": "13c92a12-e1ea-4fdc-b76a-8d4cbf55ca63",
     "showTitle": true,
     "tableResultSettingsMap": {},
     "title": "target variable"
    }
   },
   "outputs": [],
   "source": [
    "from pyspark.sql import functions as F, Window as W\n",
    "\n",
    "w = W.partitionBy(\"ticker\").orderBy(\"date\")\n",
    "prices_gold = (prices_to_process\n",
    "    .withColumn(\"adj_close_next\", F.lead(\"adj_close\", 1).over(w))\n",
    "    .withColumn(\"target_action\",\n",
    "        F.when(F.col(\"adj_close_next\") > F.col(\"adj_close\"), F.lit(\"buy\"))\n",
    "         .when(F.col(\"adj_close_next\") < F.col(\"adj_close\"), F.lit(\"sell\"))\n",
    "         .otherwise(F.lit(\"hold\"))\n",
    "    )\n",
    ")"
   ]
  },
  {
   "cell_type": "code",
   "execution_count": 0,
   "metadata": {
    "application/vnd.databricks.v1+cell": {
     "cellMetadata": {
      "byteLimit": 2048000,
      "rowLimit": 10000
     },
     "inputWidgets": {},
     "nuid": "3f000a7a-8863-409b-920f-a87253e23cd6",
     "showTitle": false,
     "tableResultSettingsMap": {},
     "title": ""
    }
   },
   "outputs": [],
   "source": [
    "display(prices_gold)"
   ]
  },
  {
   "cell_type": "code",
   "execution_count": 0,
   "metadata": {
    "application/vnd.databricks.v1+cell": {
     "cellMetadata": {
      "byteLimit": 2048000,
      "rowLimit": 10000
     },
     "inputWidgets": {},
     "nuid": "b7dce179-8924-4874-a701-f8fd0885ae35",
     "showTitle": true,
     "tableResultSettingsMap": {},
     "title": "join and publish data"
    }
   },
   "outputs": [],
   "source": [
    "dataset = prices_gold.join(news_to_process, on=[\"ticker\", \"date\"], how=\"left\")\n",
    "dataset = dataset.filter(F.col(\"ticker\").isNotNull() & F.col(\"date\").isNotNull())\n",
    "\n",
    "if spark.catalog.tableExists(\"gold.ticker_predictor_training_dataset\"):\n",
    "    existing = gold.withColumnRenamed(\"adj_close\", \"adj_close_existing\") \\\n",
    "                       .withColumnRenamed(\"weighted_gdelt_tone_avg\", \"weighted_gdelt_tone_avg_existing\")\n",
    "\n",
    "    joined = dataset.join(\n",
    "        existing.select(\"ticker\", \"date\", \"adj_close_existing\", \"weighted_gdelt_tone_avg_existing\"),\n",
    "        [\"ticker\", \"date\"],\n",
    "        \"left\"\n",
    "    )\n",
    "    new_rows = joined.filter(F.col(\"adj_close_existing\").isNull())\n",
    "    modified_rows = joined.filter(\n",
    "        (F.col(\"adj_close_existing\").isNotNull()) & (\n",
    "            (F.col(\"adj_close\") != F.col(\"adj_close_existing\")) |\n",
    "            (F.col(\"weighted_gdelt_tone_avg\") != F.col(\"weighted_gdelt_tone_avg_existing\"))\n",
    "        )\n",
    "    )\n",
    "    print(f\"New records: {new_rows.count()}\")\n",
    "    print(f\"Updated records: {modified_rows.count()}\")\n",
    "else:\n",
    "    print(f\"New records: {dataset.count()}\")\n",
    "    print(\"Updated records: 0\")\n",
    "\n",
    "dataset.write.mode(\"overwrite\").option(\"overwriteSchema\", \"true\").saveAsTable(\"gold.ticker_predictor_training_dataset\")"
   ]
  }
 ],
 "metadata": {
  "application/vnd.databricks.v1+notebook": {
   "computePreferences": null,
   "dashboards": [],
   "environmentMetadata": {
    "base_environment": "",
    "environment_version": "2"
   },
   "inputWidgetPreferences": null,
   "language": "python",
   "notebookMetadata": {
    "pythonIndentUnit": 4
   },
   "notebookName": "00-gold_ticker_predictor_training_dataset.py",
   "widgets": {
    "catalog": {
     "currentValue": "ptd_dev",
     "nuid": "99e51007-772b-413d-b51e-91e38be2d587",
     "typedWidgetInfo": {
      "autoCreated": false,
      "defaultValue": "ptd_dev",
      "label": null,
      "name": "catalog",
      "options": {
       "validationRegex": null,
       "widgetDisplayType": "Text"
      },
      "parameterDataType": "String"
     },
     "widgetInfo": {
      "defaultValue": "ptd_dev",
      "label": null,
      "name": "catalog",
      "options": {
       "autoCreated": null,
       "validationRegex": null,
       "widgetType": "text"
      },
      "widgetType": "text"
     }
    }
   }
  },
  "language_info": {
   "name": "python"
  }
 },
 "nbformat": 4,
 "nbformat_minor": 0
}
