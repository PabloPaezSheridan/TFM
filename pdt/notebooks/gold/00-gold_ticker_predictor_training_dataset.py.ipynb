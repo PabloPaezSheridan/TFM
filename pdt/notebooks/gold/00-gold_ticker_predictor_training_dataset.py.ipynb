{
 "cells": [
  {
   "cell_type": "code",
   "execution_count": 0,
   "metadata": {
    "application/vnd.databricks.v1+cell": {
     "cellMetadata": {},
     "inputWidgets": {},
     "nuid": "b7dce179-8924-4874-a701-f8fd0885ae35",
     "showTitle": false,
     "tableResultSettingsMap": {},
     "title": ""
    }
   },
   "outputs": [],
   "source": [
    "from pyspark.sql import functions as F, Window as W\n",
    "\n",
    "# Leer datos de precios y noticias\n",
    "prices = spark.table(\"silver.prices_daily\").select(\"ticker\", \"date\", \"adj_close\")\n",
    "news = spark.table(\"silver.ticker_news_tone\").select(\"ticker\", \"date\", \"weighted_gdelt_tone_avg\", \"news_count\")\n",
    "\n",
    "# Calcular la variable objetivo\n",
    "w = W.partitionBy(\"ticker\").orderBy(\"date\")\n",
    "prices = (prices\n",
    "    .withColumn(\"adj_close_next\", F.lead(\"adj_close\", 1).over(w))\n",
    "    .withColumn(\"target_action\",\n",
    "        F.when(F.col(\"adj_close_next\") > F.col(\"adj_close\"), F.lit(\"comprar\"))\n",
    "         .when(F.col(\"adj_close_next\") < F.col(\"adj_close\"), F.lit(\"vender\"))\n",
    "         .otherwise(F.lit(\"mantener\"))\n",
    "    )\n",
    ")\n",
    "\n",
    "# Unir precios y noticias\n",
    "dataset = prices.join(news, on=[\"ticker\", \"date\"], how=\"left\")\n",
    "\n",
    "# Imputar medias para días sin noticias\n",
    "mean_tone = news.groupBy(\"ticker\").agg(F.mean(\"weighted_gdelt_tone_avg\").alias(\"mean_tone\"))\n",
    "mean_count = news.groupBy(\"ticker\").agg(F.mean(\"news_count\").alias(\"mean_count\"))\n",
    "\n",
    "dataset = (dataset\n",
    "    .join(mean_tone, on=\"ticker\", how=\"left\")\n",
    "    .join(mean_count, on=\"ticker\", how=\"left\")\n",
    "    .withColumn(\"weighted_gdelt_tone_avg\", F.coalesce(\"weighted_gdelt_tone_avg\", \"mean_tone\"))\n",
    "    .withColumn(\"news_count\", F.coalesce(\"news_count\", \"mean_count\"))\n",
    "    .drop(\"mean_tone\", \"mean_count\")\n",
    ")\n",
    "\n",
    "# El resultado tiene: ticker, date, adj_close, target_action, weighted_gdelt_tone_avg, news_count\n",
    "dataset.write.mode(\"overwrite\").option(\"overwriteSchema\", \"true\").saveAsTable(\"gold.ticker_predictor_training_dataset\")"
   ]
  }
 ],
 "metadata": {
  "application/vnd.databricks.v1+notebook": {
   "computePreferences": null,
   "dashboards": [],
   "environmentMetadata": {
    "base_environment": "",
    "environment_version": "2"
   },
   "inputWidgetPreferences": null,
   "language": "python",
   "notebookMetadata": {
    "pythonIndentUnit": 4
   },
   "notebookName": "00-gold_features_labels_dataset.py",
   "widgets": {}
  },
  "language_info": {
   "name": "python"
  }
 },
 "nbformat": 4,
 "nbformat_minor": 0
}
