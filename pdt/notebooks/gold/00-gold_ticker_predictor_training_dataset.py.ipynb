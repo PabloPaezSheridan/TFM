{
 "cells": [
  {
   "cell_type": "code",
   "execution_count": 0,
   "metadata": {
    "application/vnd.databricks.v1+cell": {
     "cellMetadata": {},
     "inputWidgets": {},
     "nuid": "eb74ee00-2a32-4191-b169-157cbbf7d5ed",
     "showTitle": true,
     "tableResultSettingsMap": {},
     "title": "import silver data"
    }
   },
   "outputs": [],
   "source": [
    "from pyspark.sql import functions as F, Window as W\n",
    "\n",
    "dbutils.widgets.text(\"catalog\", \"ptd_dev\")\n",
    "catalog       = dbutils.widgets.get(\"catalog\")\n",
    "spark.sql(f\"USE CATALOG {catalog}\")\n",
    "\n",
    "prices = spark.table(\"silver.prices_daily\").select(\"ticker\", \"date\", \"adj_close\")\n",
    "news = spark.table(\"silver.ticker_news_tone\").select(\"ticker\", \"date\", \"weighted_gdelt_tone_avg\", \"news_count\")"
   ]
  },
  {
   "cell_type": "code",
   "execution_count": 0,
   "metadata": {
    "application/vnd.databricks.v1+cell": {
     "cellMetadata": {},
     "inputWidgets": {},
     "nuid": "f18d5c23-2a20-4b01-825d-2efeed363d64",
     "showTitle": true,
     "tableResultSettingsMap": {},
     "title": "target variable"
    }
   },
   "outputs": [],
   "source": [
    "last_price_date = prices.groupBy(\"ticker\").agg(F.max(\"date\").alias(\"last_date\"))\n",
    "\n",
    "news = news.join(last_price_date, on=\"ticker\", how=\"inner\").filter(F.col(\"date\") <= F.col(\"last_date\")).drop(\"last_date\")\n",
    "\n",
    "w = W.partitionBy(\"ticker\").orderBy(\"date\")\n",
    "prices = (prices\n",
    "    .withColumn(\"adj_close_next\", F.lead(\"adj_close\", 1).over(w))\n",
    "    .withColumn(\"target_action\",\n",
    "        F.when(F.col(\"adj_close_next\") > F.col(\"adj_close\"), F.lit(\"buy\"))\n",
    "         .when(F.col(\"adj_close_next\") < F.col(\"adj_close\"), F.lit(\"sell\"))\n",
    "         .otherwise(F.lit(\"hold\"))\n",
    "    )\n",
    ")"
   ]
  },
  {
   "cell_type": "code",
   "execution_count": 0,
   "metadata": {
    "application/vnd.databricks.v1+cell": {
     "cellMetadata": {
      "byteLimit": 2048000,
      "rowLimit": 10000
     },
     "inputWidgets": {},
     "nuid": "b7dce179-8924-4874-a701-f8fd0885ae35",
     "showTitle": true,
     "tableResultSettingsMap": {},
     "title": "join and publish data"
    }
   },
   "outputs": [],
   "source": [
    "dataset = prices.join(news, on=[\"ticker\", \"date\"], how=\"left\")\n",
    "\n",
    "dataset = dataset.filter(F.col(\"ticker\").isNotNull() & F.col(\"date\").isNotNull())\n",
    "dataset.write.mode(\"overwrite\").option(\"overwriteSchema\", \"true\").saveAsTable(\"gold.ticker_predictor_training_dataset\")"
   ]
  }
 ],
 "metadata": {
  "application/vnd.databricks.v1+notebook": {
   "computePreferences": null,
   "dashboards": [],
   "environmentMetadata": {
    "base_environment": "",
    "environment_version": "2"
   },
   "inputWidgetPreferences": null,
   "language": "python",
   "notebookMetadata": {
    "pythonIndentUnit": 4
   },
   "notebookName": "00-gold_ticker_predictor_training_dataset.py",
   "widgets": {}
  },
  "language_info": {
   "name": "python"
  }
 },
 "nbformat": 4,
 "nbformat_minor": 0
}
