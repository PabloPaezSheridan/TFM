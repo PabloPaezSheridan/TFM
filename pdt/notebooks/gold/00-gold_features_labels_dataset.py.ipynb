{
 "cells": [
  {
   "cell_type": "code",
   "execution_count": 0,
   "metadata": {
    "application/vnd.databricks.v1+cell": {
     "cellMetadata": {},
     "inputWidgets": {},
     "nuid": "b7dce179-8924-4874-a701-f8fd0885ae35",
     "showTitle": false,
     "tableResultSettingsMap": {},
     "title": ""
    }
   },
   "outputs": [],
   "source": [
    "# Databricks notebook source\n",
    "dbutils.widgets.text(\"catalog\", \"ptd_dev\")\n",
    "dbutils.widgets.text(\"schema_silver\", \"silver\")\n",
    "dbutils.widgets.text(\"schema_gold\", \"gold\")\n",
    "dbutils.widgets.text(\"horizon_days\", \"5\")\n",
    "dbutils.widgets.text(\"tcost_bps\", \"5\")          # costo transaccional ida+vuelta en bps (0.05% = 5 bps)\n",
    "dbutils.widgets.text(\"thr_up_bps\", \"0\")         # umbral para label up (en bps sobre forward return neto)\n",
    "dbutils.widgets.text(\"thr_down_bps\", \"0\")       # umbral para label down (en bps)\n",
    "\n",
    "catalog       = dbutils.widgets.get(\"catalog\")\n",
    "schema_silver = dbutils.widgets.get(\"schema_silver\")\n",
    "schema_gold   = dbutils.widgets.get(\"schema_gold\")\n",
    "H             = int(dbutils.widgets.get(\"horizon_days\"))\n",
    "tcost_bps     = float(dbutils.widgets.get(\"tcost_bps\"))\n",
    "thr_up_bps    = float(dbutils.widgets.get(\"thr_up_bps\"))\n",
    "thr_dn_bps    = float(dbutils.widgets.get(\"thr_down_bps\")) if \"thr_down_bps\" in [w.name for w in dbutils.widgets.getArgument()._widgets] else thr_up_bps\n",
    "\n",
    "spark.sql(f\"USE CATALOG {catalog}\")\n",
    "spark.sql(f\"USE SCHEMA {schema_gold}\")\n",
    "\n",
    "from pyspark.sql import functions as F, Window as W\n",
    "\n",
    "prices_daily     = spark.table(f\"{catalog}.{schema_silver}.prices_daily\")\n",
    "market_features  = spark.table(f\"{catalog}.{schema_silver}.market_features\")\n",
    "news_daily_agg   = spark.table(f\"{catalog}.{schema_silver}.news_daily_agg\")\n",
    "\n",
    "# 1) Features: unir precios + mercado + noticias\n",
    "pd = prices_daily.alias(\"p\")\n",
    "\n",
    "# Lags de returns y medias móviles ya están; agregamos lags extra\n",
    "w = W.partitionBy(\"ticker\").orderBy(\"date\")\n",
    "feat = (pd\n",
    "    .withColumn(\"ret_1d_lag1\", F.lag(\"ret_1d\",1).over(w))\n",
    "    .withColumn(\"ret_1d_lag2\", F.lag(\"ret_1d\",2).over(w))\n",
    "    .withColumn(\"ret_5d_lag1\", F.lag(\"ret_5d\",1).over(w))\n",
    ")\n",
    "\n",
    "# Join con market_features (SPY y ^VIX columnas pivot)\n",
    "f = (feat.join(market_features, on=\"date\", how=\"left\")\n",
    "         .join(news_daily_agg, on=[\"ticker\",\"date\"], how=\"left\")\n",
    "         .fillna({\"news_count\":0})\n",
    "         .withColumn(\"tone_avg\", F.coalesce(F.col(\"tone_avg\"), F.lit(0.0)))\n",
    "         .withColumn(\"ingestion_ts\", F.current_timestamp())\n",
    ")\n",
    "\n",
    "f.write.mode(\"overwrite\").option(\"overwriteSchema\",\"true\").saveAsTable(f\"{catalog}.{schema_gold}.features_daily\")\n",
    "\n",
    "# 2) Labels: forward return H-días neto de costos\n",
    "w2 = W.partitionBy(\"ticker\").orderBy(\"date\")\n",
    "lb = (prices_daily.select(\"ticker\",\"date\",\"adj_close\",\"ret_1d\")\n",
    "      .withColumn(f\"adj_close_fwd_{H}\", F.lead(\"adj_close\", H).over(w2))\n",
    "      .withColumn(\"fwd_ret\", F.col(f\"adj_close_fwd_{H}\")/F.col(\"adj_close\") - 1)\n",
    "      .withColumn(\"fwd_ret_net\", F.col(\"fwd_ret\") - F.lit(tcost_bps/10000.0))\n",
    "      .withColumn(\"label_up\",  (F.col(\"fwd_ret_net\") >  (thr_up_bps/10000.0)).cast(\"int\"))\n",
    "      .withColumn(\"label_down\",(F.col(\"fwd_ret_net\") < -(thr_dn_bps/10000.0)).cast(\"int\"))\n",
    "      .drop(f\"adj_close_fwd_{H}\")\n",
    "      .withColumn(\"ingestion_ts\", F.current_timestamp())\n",
    ")\n",
    "\n",
    "lb.write.mode(\"overwrite\").option(\"overwriteSchema\",\"true\").saveAsTable(f\"{catalog}.{schema_gold}.labels_daily\")\n",
    "\n",
    "# 3) Dataset ML = features + labels (intersección)\n",
    "ds = (spark.table(f\"{catalog}.{schema_gold}.features_daily\").alias(\"x\")\n",
    "      .join(lb.alias(\"y\"), on=[\"ticker\",\"date\"], how=\"inner\"))\n",
    "\n",
    "ds.write.mode(\"overwrite\").option(\"overwriteSchema\",\"true\").saveAsTable(f\"{catalog}.{schema_gold}.dataset_ml\")"
   ]
  }
 ],
 "metadata": {
  "application/vnd.databricks.v1+notebook": {
   "computePreferences": null,
   "dashboards": [],
   "environmentMetadata": {
    "base_environment": "",
    "environment_version": "2"
   },
   "inputWidgetPreferences": null,
   "language": "python",
   "notebookMetadata": {
    "pythonIndentUnit": 4
   },
   "notebookName": "00-gold_features_labels_dataset.py",
   "widgets": {}
  },
  "language_info": {
   "name": "python"
  }
 },
 "nbformat": 4,
 "nbformat_minor": 0
}
